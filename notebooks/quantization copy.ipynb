{
 "cells": [
  {
   "cell_type": "code",
   "execution_count": 1,
   "metadata": {},
   "outputs": [],
   "source": [
    "import torch\n",
    "import torchvision\n",
    "import time\n",
    "from torch.quantization import quantize_qat, prepare_qat, convert\n",
    "from torchvision.models.quantization import resnet18\n",
    "from torch.utils.data import DataLoader, Dataset\n",
    "import torchvision.transforms as transforms"
   ]
  },
  {
   "cell_type": "code",
   "execution_count": null,
   "metadata": {},
   "outputs": [],
   "source": [
    "\n",
    "# Simulated training loop for QAT (Here we use a small dataset)\n",
    "# Replace with your actual dataset and training loop as needed\n",
    "class RandomDataset(Dataset):\n",
    "    def __init__(self, num_samples, num_classes):\n",
    "        self.num_samples = num_samples\n",
    "        self.num_classes = num_classes\n",
    "\n",
    "    def __len__(self):\n",
    "        return self.num_samples\n",
    "\n",
    "    def __getitem__(self, idx):\n",
    "        image = torch.rand(3, 224, 224)\n",
    "        label = torch.randint(0, self.num_classes, (1,)).item()\n",
    "        return image, label\n",
    "\n",
    "# DataLoader with random data for demonstration\n",
    "train_loader = DataLoader(RandomDataset(100, 50), batch_size=32)\n"
   ]
  },
  {
   "cell_type": "code",
   "execution_count": null,
   "metadata": {},
   "outputs": [
    {
     "name": "stderr",
     "output_type": "stream",
     "text": [
      "/home/cpsl/.cache/pypoetry/virtualenvs/mmwave-model-integrator-Zyebo4p7-py3.10/lib/python3.10/site-packages/torchvision/models/_utils.py:223: UserWarning: Arguments other than a weight enum or `None` for 'weights' are deprecated since 0.13 and may be removed in the future. The current behavior is equivalent to passing `weights=ResNet18_Weights.IMAGENET1K_V1`. You can also use `weights=ResNet18_Weights.DEFAULT` to get the most up-to-date weights.\n",
      "  warnings.warn(msg)\n",
      "/home/cpsl/.cache/pypoetry/virtualenvs/mmwave-model-integrator-Zyebo4p7-py3.10/lib/python3.10/site-packages/torch/ao/quantization/observer.py:221: UserWarning: Please use quant_min and quant_max to specify the range for observers.                     reduce_range will be deprecated in a future release of PyTorch.\n",
      "  warnings.warn(\n"
     ]
    }
   ],
   "source": [
    "\n",
    "# Load and prepare a ResNet18 model for quantization-aware training\n",
    "original_model = resnet18(weights=True)\n",
    "original_model.eval()"
   ]
  },
  {
   "cell_type": "code",
   "execution_count": null,
   "metadata": {},
   "outputs": [
    {
     "name": "stdout",
     "output_type": "stream",
     "text": [
      "Original model inference time (avg per batch): 2.1879 seconds\n",
      "Quantized model inference time (avg per batch): 5.5030 seconds\n"
     ]
    }
   ],
   "source": [
    "# Helper function to measure inference time\n",
    "def measure_inference_time(model, data_loader, num_batches=5):\n",
    "    start_time = time.time()\n",
    "    with torch.no_grad():\n",
    "        for i, (images, _) in enumerate(data_loader):\n",
    "            if i >= num_batches:\n",
    "                break\n",
    "            _ = model(images)\n",
    "    end_time = time.time()\n",
    "    avg_inference_time = (end_time - start_time) / num_batches\n",
    "    return avg_inference_time\n",
    "\n",
    "# Prepare data loader for inference\n",
    "test_loader = DataLoader(RandomDataset(100, 50), batch_size=16)\n",
    "\n",
    "# Measure inference times for the original and quantized models\n",
    "original_inference_time = measure_inference_time(original_model, test_loader)\n",
    "\n",
    "print(f\"Original model inference time (avg per batch): {original_inference_time:.4f} seconds\")\n",
    "print(f\"Quantized model inference time (avg per batch): {quantized_inference_time:.4f} seconds\")"
   ]
  }
 ],
 "metadata": {
  "kernelspec": {
   "display_name": "mmwave-model-integrator-Zyebo4p7-py3.10",
   "language": "python",
   "name": "python3"
  },
  "language_info": {
   "codemirror_mode": {
    "name": "ipython",
    "version": 3
   },
   "file_extension": ".py",
   "mimetype": "text/x-python",
   "name": "python",
   "nbconvert_exporter": "python",
   "pygments_lexer": "ipython3",
   "version": "3.10.15"
  }
 },
 "nbformat": 4,
 "nbformat_minor": 2
}
