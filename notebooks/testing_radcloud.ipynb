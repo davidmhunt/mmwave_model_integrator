{
 "cells": [
  {
   "cell_type": "code",
   "execution_count": null,
   "metadata": {},
   "outputs": [],
   "source": [
    "import sys\n",
    "import os\n",
    "import matplotlib.pyplot as plt\n",
    "import numpy as np\n",
    "\n",
    "from dotenv import load_dotenv\n",
    "load_dotenv()\n",
    "DATASET_PATH=os.getenv(\"DATASET_DIRECTORY\")\n",
    "CONFIG_DIRECTORY = os.getenv(\"CONFIG_DIRECTORY\")\n",
    "RADCLOUD_MODEL_STATE_DICT_PATH=os.getenv(\"RADCLOUD_MODEL_STATE_DICT_PATH\")\n",
    "\n",
    "sys.path.append(\"../\")\n",
    "from mmwave_radar_processing.config_managers.cfgManager import ConfigManager\n",
    "from cpsl_datasets.cpsl_ds import CpslDS\n",
    "\n",
    "from mmwave_model_integrator.input_encoders.radcloud_encoder import RadCloudEncoder\n",
    "from mmwave_model_integrator.model_runner.radcloud_runner import RadCloudRunner\n",
    "from mmwave_model_integrator.decoders.radcloud_decoder import RadCloudDecoder\n",
    "from mmwave_model_integrator.plotting.plotter_rng_az_to_pc import PlotterRngAzToPC\n",
    "from mmwave_model_integrator.plotting.movies_rng_az_to_pc import MovieGeneratorRngAzToPC"
   ]
  },
  {
   "cell_type": "code",
   "execution_count": null,
   "metadata": {},
   "outputs": [],
   "source": [
    "cfg_manager = ConfigManager()\n",
    "\n",
    "cfg_path = os.path.join(CONFIG_DIRECTORY,\"RadCloud.cfg\")\n",
    "cfg_manager.load_cfg(cfg_path)\n",
    "cfg_manager.compute_radar_perforance(profile_idx=0)"
   ]
  },
  {
   "cell_type": "code",
   "execution_count": null,
   "metadata": {},
   "outputs": [],
   "source": [
    "#load the dataset\n",
    "dataset_name = \"WILK/WILK_1/\"\n",
    "dataset_path = os.path.join(DATASET_PATH,\"radCloud_comp_datasets\",dataset_name)\n",
    "dataset = CpslDS(\n",
    "    dataset_path=dataset_path,\n",
    "    radar_folder=\"radar_0\",\n",
    "    lidar_folder=\"lidar\",\n",
    "    camera_folder=\"camera\",\n",
    "    imu_orientation_folder=\"imu_data\",\n",
    "    imu_full_folder=\"imu_data_full\"\n",
    ")"
   ]
  },
  {
   "cell_type": "code",
   "execution_count": null,
   "metadata": {},
   "outputs": [],
   "source": [
    "plotter = PlotterRngAzToPC()\n",
    "\n",
    "encoder = RadCloudEncoder(\n",
    "    config_manager=cfg_manager,\n",
    "    max_range_bin=64,\n",
    "    num_chirps_to_encode=40,\n",
    "    radar_fov_rad= [-0.87,0.87],\n",
    "    num_az_angle_bins=64,\n",
    "    power_range_dB=[60,105]\n",
    ")\n",
    "\n",
    "runner = RadCloudRunner(\n",
    "    state_dict_path=RADCLOUD_MODEL_STATE_DICT_PATH,\n",
    "    cuda_device=\"cuda:0\"\n",
    ")\n",
    "\n",
    "\n",
    "decoder = RadCloudDecoder(\n",
    "    max_range_m=8.56,\n",
    "    num_range_bins=64,\n",
    "    angle_range_rad=[np.deg2rad(50),np.deg2rad(-50)],#[-np.pi/2 - 0.87,-np.pi/2 + 0.87],\n",
    "    num_angle_bins=48\n",
    ")\n",
    "\n",
    "movie_generator = MovieGeneratorRngAzToPC(\n",
    "    cpsl_dataset=dataset,\n",
    "    plotter=plotter,\n",
    "    range_az_encoder=encoder,\n",
    "    model_runner=runner,\n",
    "    lidar_pc_polar_decoder=decoder,\n",
    "    temp_dir_path=os.getenv(\"MOVIE_TEMP_DIRECTORY\")\n",
    ")"
   ]
  },
  {
   "cell_type": "code",
   "execution_count": null,
   "metadata": {},
   "outputs": [],
   "source": [
    "adc_cube = dataset.get_radar_data(idx=0)\n",
    "rng_az_resp = encoder.encode(adc_cube)\n",
    "pred = runner.make_prediction(input=rng_az_resp)\n",
    "pc = decoder.convert_polar_to_cartesian(\n",
    "    decoder.decode(pred)\n",
    ")"
   ]
  },
  {
   "cell_type": "code",
   "execution_count": null,
   "metadata": {},
   "outputs": [],
   "source": [
    "plotter.plot_compilation(\n",
    "    adc_cube=adc_cube,\n",
    "    range_az_encoder=encoder,\n",
    "    model_runner=runner,\n",
    "    lidar_pc_polar_decoder=decoder,\n",
    "    axs=[],\n",
    "    show=True\n",
    ")"
   ]
  },
  {
   "cell_type": "code",
   "execution_count": null,
   "metadata": {},
   "outputs": [],
   "source": [
    "from tqdm import tqdm\n",
    "#timing analysis\n",
    "for i in tqdm(range(dataset.num_frames)):\n",
    "    adc_cube = dataset.get_radar_data(idx=i)\n",
    "    rng_az_resp = encoder.encode(adc_cube)\n",
    "    pred = runner.make_prediction(input=rng_az_resp)\n",
    "    pc = decoder.convert_polar_to_cartesian(\n",
    "        decoder.decode(pred)\n",
    "    )"
   ]
  },
  {
   "cell_type": "code",
   "execution_count": null,
   "metadata": {},
   "outputs": [],
   "source": [
    "movie_generator.initialize_figure(\n",
    "    nrows=2,\n",
    "    ncols=2,\n",
    "    figsize=(10,10),\n",
    "    wspace=0.3,\n",
    "    hspace=0.3\n",
    ")\n",
    "\n",
    "movie_generator.generate_movie_frames()\n",
    "\n",
    "fps = 1 / (1e-3 * cfg_manager.frameCfg_periodicity_ms)\n",
    "movie_generator.save_movie(video_file_name=\"{}.mp4\".format(dataset_name),fps=fps)"
   ]
  }
 ],
 "metadata": {
  "kernelspec": {
   "display_name": "odometry-JJ4jnFPp-py3.11",
   "language": "python",
   "name": "python3"
  },
  "language_info": {
   "codemirror_mode": {
    "name": "ipython",
    "version": 3
   },
   "file_extension": ".py",
   "mimetype": "text/x-python",
   "name": "python",
   "nbconvert_exporter": "python",
   "pygments_lexer": "ipython3",
   "version": "3.11.5"
  }
 },
 "nbformat": 4,
 "nbformat_minor": 2
}
