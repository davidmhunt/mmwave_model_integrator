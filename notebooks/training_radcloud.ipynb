{
 "cells": [
  {
   "cell_type": "code",
   "execution_count": null,
   "metadata": {},
   "outputs": [],
   "source": [
    "import sys\n",
    "import os\n",
    "import matplotlib.pyplot as plt\n",
    "import numpy as np\n",
    "\n",
    "from dotenv import load_dotenv\n",
    "load_dotenv()\n",
    "DATASET_PATH=os.getenv(\"DATASET_DIRECTORY\")\n",
    "CONFIG_DIRECTORY = os.getenv(\"CONFIG_DIRECTORY\")\n",
    "RADCLOUD_MODEL_STATE_DICT_PATH=os.getenv(\"RADCLOUD_MODEL_STATE_DICT_PATH\")\n",
    "MODEL_TRAINING_DATASET_PATH=os.getenv(\"MODEL_TRAINING_DATASET_PATH\")\n",
    "GENERATED_DATASETS_PATH=os.getenv(\"GENERATED_DATASETS_PATH\")\n",
    "\n",
    "\n",
    "sys.path.append(\"../\")\n",
    "from mmwave_radar_processing.config_managers.cfgManager import ConfigManager\n",
    "from cpsl_datasets.cpsl_ds import CpslDS\n",
    "\n",
    "from mmwave_model_integrator.input_encoders.radcloud_encoder import RadCloudEncoder\n",
    "from mmwave_model_integrator.ground_truth_encoders.radcloud_gt_encoder import RadCloudGTEncoder\n",
    "from mmwave_model_integrator.plotting.plotter_rng_az_to_pc import PlotterRngAzToPC\n",
    "from mmwave_model_integrator.dataset_generators.rng_az_to_pc_dataset_generator import RngAzToPCDatasetGenerator"
   ]
  },
  {
   "cell_type": "code",
   "execution_count": null,
   "metadata": {},
   "outputs": [],
   "source": [
    "#setup the config manager\n",
    "cfg_manager = ConfigManager()\n",
    "\n",
    "cfg_path = os.path.join(CONFIG_DIRECTORY,\"RadCloud_original.cfg\")\n",
    "cfg_manager.load_cfg(cfg_path)\n",
    "cfg_manager.compute_radar_perforance(profile_idx=0)"
   ]
  },
  {
   "cell_type": "code",
   "execution_count": null,
   "metadata": {},
   "outputs": [],
   "source": [
    "#determine the paths to all of the datasets\n",
    "dataset_groups = [\"ugv_seen_dataset\",\"ugv_unseen_dataset\",\"ugv_rapid_movement_dataset\"]\n",
    "\n",
    "train_scenario_folders = []\n",
    "test_scenario_folders = []\n",
    "\n",
    "for group in dataset_groups:\n",
    "    group_path = os.path.join(MODEL_TRAINING_DATASET_PATH,group)\n",
    "    entries = sorted(os.listdir(group_path))\n",
    "    for entry in entries:\n",
    "        path = os.path.join(group_path,entry)\n",
    "        if os.path.isdir(path):\n",
    "            if 'test' in entry.lower():\n",
    "                test_scenario_folders.append(path)\n",
    "            else:\n",
    "                train_scenario_folders.append(path)"
   ]
  },
  {
   "cell_type": "code",
   "execution_count": null,
   "metadata": {},
   "outputs": [],
   "source": [
    "#initializing the dataset generator\n",
    "dataset_path = train_scenario_folders[0]\n",
    "dataset = CpslDS(\n",
    "    dataset_path=dataset_path,\n",
    "    radar_folder=\"radar\",\n",
    "    lidar_folder=\"lidar\",\n",
    "    camera_folder=\"camera\",\n",
    "    imu_orientation_folder=\"imu_data\",\n",
    "    imu_full_folder=\"imu_data_full\"\n",
    ")"
   ]
  },
  {
   "cell_type": "code",
   "execution_count": null,
   "metadata": {},
   "outputs": [],
   "source": [
    "#initialize the encoder and decoder\n",
    "input_encoder = RadCloudEncoder(\n",
    "    config_manager=cfg_manager,\n",
    "    max_range_bin=64,\n",
    "    num_chirps_to_encode=40,\n",
    "    radar_fov_rad= [-0.87,0.87],\n",
    "    num_az_angle_bins=64,\n",
    "    power_range_dB=[60,105]\n",
    ")\n",
    "\n",
    "ground_truth_encoder = RadCloudGTEncoder(\n",
    "    max_range_m=8.56,\n",
    "    num_range_bins=64,\n",
    "    angle_range_rad=[np.deg2rad(50),np.deg2rad(-50)],\n",
    "    num_angle_bins=48,\n",
    "    num_previous_frames=0\n",
    ")\n",
    "\n",
    "plotter = PlotterRngAzToPC()"
   ]
  },
  {
   "cell_type": "code",
   "execution_count": null,
   "metadata": {},
   "outputs": [],
   "source": [
    "#plot a sample of the input/output for training\n",
    "adc_cube = dataset.get_radar_data(idx=0)\n",
    "\n",
    "#accessing lidar ground truth output and encoding it\n",
    "lidar_pc = dataset.get_lidar_point_cloud_raw(idx=0)\n",
    "\n",
    "plotter.plot_compilation(\n",
    "    adc_cube=adc_cube,\n",
    "    input_encoder=input_encoder,\n",
    "    lidar_pc=lidar_pc,\n",
    "    ground_truth_encoder=ground_truth_encoder,\n",
    "    axs=[],\n",
    "    show=True\n",
    ")"
   ]
  },
  {
   "cell_type": "code",
   "execution_count": null,
   "metadata": {},
   "outputs": [],
   "source": [
    "#initialize the dataset generator\n",
    "generated_dataset_path = os.path.join(GENERATED_DATASETS_PATH,\"RadCloud_train\")\n",
    "dataset_generator = RngAzToPCDatasetGenerator(\n",
    "    generated_dataset_path=generated_dataset_path,\n",
    "    dataset_handler=dataset,\n",
    "    input_encoder=input_encoder,\n",
    "    ground_truth_encoder=ground_truth_encoder,\n",
    "    generated_file_name=\"frame\",\n",
    "    input_encoding_folder=\"x_s\",\n",
    "    ground_truth_encoding_folder=\"y_s\",\n",
    "    clear_existing_data=True\n",
    ")"
   ]
  },
  {
   "cell_type": "code",
   "execution_count": null,
   "metadata": {},
   "outputs": [],
   "source": [
    "#generate the training dataset\n",
    "dataset_generator.generate_dataset_from_multiple_scenarios(train_scenario_folders)"
   ]
  },
  {
   "cell_type": "code",
   "execution_count": null,
   "metadata": {},
   "outputs": [],
   "source": [
    "#generating the testing dataset\n",
    "generated_dataset_path = os.path.join(GENERATED_DATASETS_PATH,\"RadCloud_test\")\n",
    "dataset_generator.reset(generated_dataset_path)\n",
    "dataset_generator.generate_dataset_from_multiple_scenarios(test_scenario_folders)\n"
   ]
  },
  {
   "cell_type": "code",
   "execution_count": null,
   "metadata": {},
   "outputs": [],
   "source": [
    "from mmwave_model_integrator.config import Config\n",
    "config_path = \"../configs/radcloud.py\"\n",
    "config = Config(config_path)\n",
    "\n",
    "config.print_config()"
   ]
  },
  {
   "cell_type": "code",
   "execution_count": null,
   "metadata": {},
   "outputs": [],
   "source": [
    "import mmwave_model_integrator.torch_training.trainers as trainers\n",
    "\n",
    "trainer_config = config.trainer\n",
    "trainer_class = getattr(trainers,trainer_config.pop('type'))\n",
    "trainer = trainer_class(**trainer_config)\n"
   ]
  },
  {
   "cell_type": "code",
   "execution_count": null,
   "metadata": {},
   "outputs": [],
   "source": [
    "#train the model\n",
    "trainer.train_model()"
   ]
  }
 ],
 "metadata": {
  "kernelspec": {
   "display_name": "mmwave-model-integrator-S4Y7oiM5-py3.10",
   "language": "python",
   "name": "python3"
  },
  "language_info": {
   "codemirror_mode": {
    "name": "ipython",
    "version": 3
   },
   "file_extension": ".py",
   "mimetype": "text/x-python",
   "name": "python",
   "nbconvert_exporter": "python",
   "pygments_lexer": "ipython3",
   "version": "3.10.15"
  }
 },
 "nbformat": 4,
 "nbformat_minor": 2
}
