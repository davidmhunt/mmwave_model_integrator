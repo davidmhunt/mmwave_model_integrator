{
 "cells": [
  {
   "cell_type": "code",
   "execution_count": null,
   "metadata": {},
   "outputs": [],
   "source": [
    "import sys\n",
    "import os\n",
    "import matplotlib.pyplot as plt\n",
    "import numpy as np\n",
    "\n",
    "from dotenv import load_dotenv\n",
    "load_dotenv()\n",
    "DATASET_PATH=os.getenv(\"DATASET_DIRECTORY\")\n",
    "CONFIG_DIRECTORY = os.getenv(\"CONFIG_DIRECTORY\")\n",
    "RADCLOUD_MODEL_STATE_DICT_PATH=os.getenv(\"RADCLOUD_MODEL_STATE_DICT_PATH\")\n",
    "MODEL_TRAINING_DATASET_PATH=os.getenv(\"MODEL_TRAINING_DATASET_PATH\")\n",
    "GENERATED_DATASETS_PATH=os.getenv(\"GENERATED_DATASETS_PATH\")\n",
    "\n",
    "\n",
    "sys.path.append(\"../\")\n",
    "from mmwave_radar_processing.config_managers.cfgManager import ConfigManager\n",
    "from cpsl_datasets.cpsl_ds import CpslDS\n",
    "\n",
    "from mmwave_model_integrator.input_encoders.radcloud_encoder import RadCloudEncoder\n",
    "from mmwave_model_integrator.ground_truth_encoders.radcloud_gt_encoder import RadCloudGTEncoder\n",
    "from mmwave_model_integrator.plotting.plotter_rng_az_to_pc import PlotterRngAzToPC\n",
    "from mmwave_model_integrator.dataset_generators.rng_az_to_pc_dataset_generator import RngAzToPCDatasetGenerator"
   ]
  },
  {
   "cell_type": "code",
   "execution_count": 1,
   "metadata": {},
   "outputs": [
    {
     "ename": "NameError",
     "evalue": "name 'ConfigManager' is not defined",
     "output_type": "error",
     "traceback": [
      "\u001b[0;31m---------------------------------------------------------------------------\u001b[0m",
      "\u001b[0;31mNameError\u001b[0m                                 Traceback (most recent call last)",
      "Cell \u001b[0;32mIn[1], line 2\u001b[0m\n\u001b[1;32m      1\u001b[0m \u001b[38;5;66;03m#setup the config manager\u001b[39;00m\n\u001b[0;32m----> 2\u001b[0m cfg_manager \u001b[38;5;241m=\u001b[39m \u001b[43mConfigManager\u001b[49m()\n\u001b[1;32m      4\u001b[0m cfg_path \u001b[38;5;241m=\u001b[39m os\u001b[38;5;241m.\u001b[39mpath\u001b[38;5;241m.\u001b[39mjoin(CONFIG_DIRECTORY,\u001b[38;5;124m\"\u001b[39m\u001b[38;5;124mRadCloud_original.cfg\u001b[39m\u001b[38;5;124m\"\u001b[39m)\n\u001b[1;32m      5\u001b[0m cfg_manager\u001b[38;5;241m.\u001b[39mload_cfg(cfg_path)\n",
      "\u001b[0;31mNameError\u001b[0m: name 'ConfigManager' is not defined"
     ]
    }
   ],
   "source": [
    "#setup the config manager\n",
    "cfg_manager = ConfigManager()\n",
    "\n",
    "cfg_path = os.path.join(CONFIG_DIRECTORY,\"RadCloud_original.cfg\")\n",
    "cfg_manager.load_cfg(cfg_path)\n",
    "cfg_manager.compute_radar_perforance(profile_idx=0)"
   ]
  },
  {
   "cell_type": "code",
   "execution_count": null,
   "metadata": {},
   "outputs": [],
   "source": [
    "#determine the paths to all of the datasets\n",
    "dataset_groups = [\"ugv_seen_dataset\",\"ugv_unseen_dataset\",\"ugv_rapid_movement_dataset\"]\n",
    "\n",
    "train_scenario_folders = []\n",
    "test_scenario_folders = []\n",
    "\n",
    "for group in dataset_groups:\n",
    "    group_path = os.path.join(MODEL_TRAINING_DATASET_PATH,group)\n",
    "    entries = sorted(os.listdir(group_path))\n",
    "    for entry in entries:\n",
    "        path = os.path.join(group_path,entry)\n",
    "        if os.path.isdir(path):\n",
    "            if 'test' in entry.lower():\n",
    "                test_scenario_folders.append(path)\n",
    "            else:\n",
    "                train_scenario_folders.append(path)"
   ]
  },
  {
   "cell_type": "code",
   "execution_count": null,
   "metadata": {},
   "outputs": [],
   "source": [
    "#initializing the dataset generator\n",
    "dataset_path = train_scenario_folders[0]\n",
    "dataset = CpslDS(\n",
    "    dataset_path=dataset_path,\n",
    "    radar_folder=\"radar\",\n",
    "    lidar_folder=\"lidar\",\n",
    "    camera_folder=\"camera\",\n",
    "    imu_orientation_folder=\"imu_data\",\n",
    "    imu_full_folder=\"imu_data_full\"\n",
    ")"
   ]
  },
  {
   "cell_type": "code",
   "execution_count": null,
   "metadata": {},
   "outputs": [],
   "source": [
    "#initialize the encoder and decoder\n",
    "input_encoder = RadCloudEncoder(\n",
    "    config_manager=cfg_manager,\n",
    "    max_range_bin=64,\n",
    "    num_chirps_to_encode=40,\n",
    "    radar_fov_rad= [-0.87,0.87],\n",
    "    num_az_angle_bins=64,\n",
    "    power_range_dB=[60,105]\n",
    ")\n",
    "\n",
    "ground_truth_encoder = RadCloudGTEncoder(\n",
    "    max_range_m=8.56,\n",
    "    num_range_bins=64,\n",
    "    angle_range_rad=[np.deg2rad(50),np.deg2rad(-50)],\n",
    "    num_angle_bins=48,\n",
    "    num_previous_frames=0\n",
    ")\n",
    "\n",
    "plotter = PlotterRngAzToPC()"
   ]
  },
  {
   "cell_type": "code",
   "execution_count": null,
   "metadata": {},
   "outputs": [],
   "source": [
    "#plot a sample of the input/output for training\n",
    "adc_cube = dataset.get_radar_data(idx=0)\n",
    "\n",
    "#accessing lidar ground truth output and encoding it\n",
    "lidar_pc = dataset.get_lidar_point_cloud_raw(idx=0)\n",
    "\n",
    "plotter.plot_compilation(\n",
    "    adc_cube=adc_cube,\n",
    "    input_encoder=input_encoder,\n",
    "    lidar_pc=lidar_pc,\n",
    "    ground_truth_encoder=ground_truth_encoder,\n",
    "    axs=[],\n",
    "    show=True\n",
    ")"
   ]
  },
  {
   "cell_type": "code",
   "execution_count": null,
   "metadata": {},
   "outputs": [],
   "source": [
    "#initialize the dataset generator\n",
    "generated_dataset_path = os.path.join(GENERATED_DATASETS_PATH,\"RadCloud_train\")\n",
    "dataset_generator = RngAzToPCDatasetGenerator(\n",
    "    generated_dataset_path=generated_dataset_path,\n",
    "    dataset_handler=dataset,\n",
    "    input_encoder=input_encoder,\n",
    "    ground_truth_encoder=ground_truth_encoder,\n",
    "    generated_file_name=\"frame\",\n",
    "    input_encoding_folder=\"x_s\",\n",
    "    ground_truth_encoding_folder=\"y_s\",\n",
    "    clear_existing_data=True\n",
    ")"
   ]
  },
  {
   "cell_type": "code",
   "execution_count": null,
   "metadata": {},
   "outputs": [],
   "source": [
    "#generate the training dataset\n",
    "dataset_generator.generate_dataset_from_multiple_scenarios(train_scenario_folders)"
   ]
  },
  {
   "cell_type": "code",
   "execution_count": null,
   "metadata": {},
   "outputs": [],
   "source": [
    "#generating the testing dataset\n",
    "generated_dataset_path = os.path.join(GENERATED_DATASETS_PATH,\"RadCloud_test\")\n",
    "dataset_generator.reset(generated_dataset_path)\n",
    "dataset_generator.generate_dataset_from_multiple_scenarios(test_scenario_folders)\n"
   ]
  },
  {
   "cell_type": "code",
   "execution_count": 1,
   "metadata": {},
   "outputs": [
    {
     "name": "stdout",
     "output_type": "stream",
     "text": [
      "model=dict(\n",
      "    type=RadCloudUnet,\n",
      "    encoder_input_channels=40,\n",
      "    encoder_out_channels=(64, 128, 256),\n",
      "    decoder_input_channels=(512, 256, 128),\n",
      "    decoder_out_channels=64,\n",
      "    output_channels=1,\n",
      "    retain_dimmension=False,\n",
      "    input_dimmensions=(64, 48),\n",
      "),\n",
      "trainer=dict(\n",
      "    type=_BaseTorchTrainer,\n",
      "    model=dict(\n",
      "        type=RadCloudUnet,\n",
      "        encoder_input_channels=40,\n",
      "        encoder_out_channels=(64, 128, 256),\n",
      "        decoder_input_channels=(512, 256, 128),\n",
      "        decoder_out_channels=64,\n",
      "        output_channels=1,\n",
      "        retain_dimmension=False,\n",
      "        input_dimmensions=(64, 48),\n",
      "    ),\n",
      "    optimizer=dict(\n",
      "        type=Adam,\n",
      "        lr=0.001,\n",
      "    ),\n",
      "    dataset=dict(\n",
      "        type=_BaseTorchDataset,\n",
      "    ),\n",
      "    dataset_path=/home/david/Downloads/generated_datasets/RadCloud_train,\n",
      "    input_directory=x_s,\n",
      "    output_directory=y_s,\n",
      "    val_split=0.15,\n",
      "    working_dir=working_dir,\n",
      "    save_name=RadCloud_40_chirps_10e,\n",
      "    input_transforms=[{'type': 'RandomRadarNoise', 'noise_level': 0.0}, {'type': 'ToTensor'}, {'type': 'Resize', 'size': (64, 48)}],\n",
      "    output_transforms=[{'type': 'ToTensor'}, {'type': 'Resize', 'size': (64, 48)}],\n",
      "    loss_fn=dict(\n",
      "        type=BCE_DICE_Loss,\n",
      "    ),\n",
      "    batch_size=256,\n",
      "    epochs=10,\n",
      "    pretrained_state_dict_path=None,\n",
      "    cuda_device=cuda:0,\n",
      "    multiple_GPUs=False,\n",
      "),\n",
      "generated_dataset=dict(\n",
      "    input_encoding_folder=x_s,\n",
      "    ground_truth_encoding_folder=y_s,\n",
      "    generated_dataset_path=/home/david/Downloads/generated_datasets/RadCloud_train,\n",
      "),\n"
     ]
    }
   ],
   "source": [
    "from mmwave_model_integrator.config import Config\n",
    "config_path = \"../configs/radcloud_single_chirp.py\"\n",
    "config = Config(config_path)\n",
    "\n",
    "config.print_config()"
   ]
  },
  {
   "cell_type": "code",
   "execution_count": 5,
   "metadata": {},
   "outputs": [
    {
     "name": "stdout",
     "output_type": "stream",
     "text": [
      "ModelTrainer: 70787 train, 12492 val samples loaded\n",
      "DatasetGenerator._check_for_directory: found directory working_dir\n"
     ]
    }
   ],
   "source": [
    "import mmwave_model_integrator.torch_training.trainers as trainers\n",
    "\n",
    "trainer_config = config.trainer\n",
    "trainer_class = getattr(trainers,trainer_config.pop('type'))\n",
    "trainer = trainer_class(**trainer_config)\n"
   ]
  },
  {
   "cell_type": "code",
   "execution_count": 6,
   "metadata": {},
   "outputs": [
    {
     "name": "stdout",
     "output_type": "stream",
     "text": [
      "ModelTrainer.train: training the network...\n"
     ]
    },
    {
     "name": "stderr",
     "output_type": "stream",
     "text": [
      " 10%|█         | 1/10 [00:41<06:10, 41.18s/it]"
     ]
    },
    {
     "name": "stdout",
     "output_type": "stream",
     "text": [
      "EPOCH: 1/10\n",
      "\t Train loss: 0.2652760148048401, Val loss:0.1980622261762619\n"
     ]
    },
    {
     "name": "stderr",
     "output_type": "stream",
     "text": [
      " 20%|██        | 2/10 [01:21<05:25, 40.73s/it]"
     ]
    },
    {
     "name": "stdout",
     "output_type": "stream",
     "text": [
      "EPOCH: 2/10\n",
      "\t Train loss: 0.17964041233062744, Val loss:0.18142670392990112\n"
     ]
    },
    {
     "name": "stderr",
     "output_type": "stream",
     "text": [
      " 30%|███       | 3/10 [02:02<04:44, 40.67s/it]"
     ]
    },
    {
     "name": "stdout",
     "output_type": "stream",
     "text": [
      "EPOCH: 3/10\n",
      "\t Train loss: 0.1601467728614807, Val loss:0.15719282627105713\n"
     ]
    },
    {
     "name": "stderr",
     "output_type": "stream",
     "text": [
      " 40%|████      | 4/10 [02:42<04:04, 40.70s/it]"
     ]
    },
    {
     "name": "stdout",
     "output_type": "stream",
     "text": [
      "EPOCH: 4/10\n",
      "\t Train loss: 0.14391329884529114, Val loss:0.14380089938640594\n"
     ]
    },
    {
     "name": "stderr",
     "output_type": "stream",
     "text": [
      " 50%|█████     | 5/10 [03:23<03:23, 40.77s/it]"
     ]
    },
    {
     "name": "stdout",
     "output_type": "stream",
     "text": [
      "EPOCH: 5/10\n",
      "\t Train loss: 0.12878908216953278, Val loss:0.13553191721439362\n"
     ]
    },
    {
     "name": "stderr",
     "output_type": "stream",
     "text": [
      " 60%|██████    | 6/10 [04:04<02:42, 40.59s/it]"
     ]
    },
    {
     "name": "stdout",
     "output_type": "stream",
     "text": [
      "EPOCH: 6/10\n",
      "\t Train loss: 0.11560060828924179, Val loss:0.12233396619558334\n"
     ]
    },
    {
     "name": "stderr",
     "output_type": "stream",
     "text": [
      " 70%|███████   | 7/10 [04:44<02:01, 40.44s/it]"
     ]
    },
    {
     "name": "stdout",
     "output_type": "stream",
     "text": [
      "EPOCH: 7/10\n",
      "\t Train loss: 0.10453230142593384, Val loss:0.11377058923244476\n"
     ]
    },
    {
     "name": "stderr",
     "output_type": "stream",
     "text": [
      " 80%|████████  | 8/10 [05:24<01:20, 40.37s/it]"
     ]
    },
    {
     "name": "stdout",
     "output_type": "stream",
     "text": [
      "EPOCH: 8/10\n",
      "\t Train loss: 0.09544961899518967, Val loss:0.108327716588974\n"
     ]
    },
    {
     "name": "stderr",
     "output_type": "stream",
     "text": [
      " 90%|█████████ | 9/10 [06:05<00:40, 40.47s/it]"
     ]
    },
    {
     "name": "stdout",
     "output_type": "stream",
     "text": [
      "EPOCH: 9/10\n",
      "\t Train loss: 0.08770783990621567, Val loss:0.10226133465766907\n"
     ]
    },
    {
     "name": "stderr",
     "output_type": "stream",
     "text": [
      "100%|██████████| 10/10 [06:45<00:00, 40.53s/it]"
     ]
    },
    {
     "name": "stdout",
     "output_type": "stream",
     "text": [
      "EPOCH: 10/10\n",
      "\t Train loss: 0.08169714361429214, Val loss:0.09784146398305893\n",
      "ModelTrainer.train: total training time 405.30\n"
     ]
    },
    {
     "name": "stderr",
     "output_type": "stream",
     "text": [
      "\n"
     ]
    },
    {
     "data": {
      "image/png": "[encoded data removed]",
      "text/plain": [
       "<Figure size 640x480 with 1 Axes>"
      ]
     },
     "metadata": {},
     "output_type": "display_data"
    }
   ],
   "source": [
    "#train the model\n",
    "trainer.train_model()"
   ]
  }
 ],
 "metadata": {
  "kernelspec": {
   "display_name": "mmwave-model-integrator-S4Y7oiM5-py3.10",
   "language": "python",
   "name": "python3"
  },
  "language_info": {
   "codemirror_mode": {
    "name": "ipython",
    "version": 3
   },
   "file_extension": ".py",
   "mimetype": "text/x-python",
   "name": "python",
   "nbconvert_exporter": "python",
   "pygments_lexer": "ipython3",
   "version": "3.10.15"
  }
 },
 "nbformat": 4,
 "nbformat_minor": 2
}
